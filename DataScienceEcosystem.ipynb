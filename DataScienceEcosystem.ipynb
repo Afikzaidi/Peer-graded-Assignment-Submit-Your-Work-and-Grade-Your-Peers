{
 "cells": [
  {
   "cell_type": "markdown",
   "id": "b782fa31-490a-42d5-a7a3-e65b65e00bdd",
   "metadata": {
    "tags": []
   },
   "source": [
    "# Data Science Tools and Ecosystem"
   ]
  },
  {
   "cell_type": "markdown",
   "id": "5f894df5-ecb2-40b1-9cbd-08a6913bf724",
   "metadata": {},
   "source": [
    "In this notebook, Data Science Tools and Ecosystem are summarized.\n",
    "\n",
    "**Objectives:**\n",
    "\n",
    "- List popular languages that Data Scientists.\n",
    "- List commonly used libraries used by Data Scientists.\n",
    "- Comment on Data Science tools."
   ]
  },
  {
   "cell_type": "markdown",
   "id": "059a0117-89a6-4b77-b8a0-c89ddfd5873c",
   "metadata": {},
   "source": [
    "Some of the popular languages that Data Scientists use are:\n",
    "1. Python.\n",
    "2. R.\n",
    "3. SQL.\n",
    "4. Java.\n",
    "5. Julia."
   ]
  },
  {
   "cell_type": "markdown",
   "id": "c51b5acc-1d1e-4aee-b8ab-68fdd4eabf7a",
   "metadata": {},
   "source": [
    "Some of the commonly used libraries used by Data Scientists include:\n",
    "\n",
    "1. TensorFlow.\n",
    "2. NumPy.\n",
    "3. SciPy.\n",
    "4. Pandas.\n",
    "5. Matplotlib."
   ]
  },
  {
   "cell_type": "markdown",
   "id": "a0aa4d2d-8aa9-49bf-a24c-1d164ad3121f",
   "metadata": {
    "tags": []
   },
   "source": [
    "Data Science Tools:\n",
    "\n",
    "|Data Science Tools|\n",
    "| -----------------|\n",
    "|   SAS            |\n",
    "|   Apache Spark   |  \n",
    "|   BigML          |"
   ]
  },
  {
   "cell_type": "markdown",
   "id": "9dd5b167-60cc-4e3b-866a-318f27c083a6",
   "metadata": {},
   "source": [
    "### Below are a few examples of evaluating arithmetic expressions in Python"
   ]
  },
  {
   "cell_type": "code",
   "execution_count": 2,
   "id": "67ae2997-014f-4478-8ad7-5227e1e28abe",
   "metadata": {
    "tags": []
   },
   "outputs": [
    {
     "data": {
      "text/plain": [
       "17"
      ]
     },
     "execution_count": 2,
     "metadata": {},
     "output_type": "execute_result"
    }
   ],
   "source": [
    "# This a simple arithmetic expression to mutiply then add integers\n",
    "(3*4)+5\n",
    "\n",
    "# result : 17"
   ]
  },
  {
   "cell_type": "code",
   "execution_count": 5,
   "id": "4053e2ce-9c8d-4770-9954-2ea65631de44",
   "metadata": {
    "tags": []
   },
   "outputs": [
    {
     "name": "stdout",
     "output_type": "stream",
     "text": [
      "3.3333333333333335\n"
     ]
    }
   ],
   "source": [
    "# This will convert 200 minutes to hours by diving by 60\n",
    "\n",
    "minutes = 200\n",
    "hours = minutes / 60  \n",
    "\n",
    "print(hours)\n"
   ]
  },
  {
   "cell_type": "markdown",
   "id": "ce7f1c2e-9a02-4a0e-abfb-c2b21d25b931",
   "metadata": {},
   "source": [
    "## Author:\n",
    "\n",
    "Afiq "
   ]
  },
  {
   "cell_type": "code",
   "execution_count": null,
   "id": "3167fea6-c72e-4c9e-992e-740d1c344df6",
   "metadata": {},
   "outputs": [],
   "source": []
  }
 ],
 "metadata": {
  "kernelspec": {
   "display_name": "Python",
   "language": "python",
   "name": "conda-env-python-py"
  },
  "language_info": {
   "codemirror_mode": {
    "name": "ipython",
    "version": 3
   },
   "file_extension": ".py",
   "mimetype": "text/x-python",
   "name": "python",
   "nbconvert_exporter": "python",
   "pygments_lexer": "ipython3",
   "version": "3.7.12"
  }
 },
 "nbformat": 4,
 "nbformat_minor": 5
}
